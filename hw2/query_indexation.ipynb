{
 "cells": [
  {
   "cell_type": "code",
   "execution_count": 9,
   "id": "b0e0937d",
   "metadata": {},
   "outputs": [],
   "source": [
    "from ipynb.fs.full.corpus_indexation import preprocess"
   ]
  },
  {
   "cell_type": "code",
   "execution_count": 8,
   "id": "b90997ce",
   "metadata": {},
   "outputs": [],
   "source": [
    "def query_vector(query, vectorizer):\n",
    "    query = preprocess(query)\n",
    "    vector = vectorizer.transform([query]).toarray()\n",
    "    return vector"
   ]
  }
 ],
 "metadata": {
  "kernelspec": {
   "display_name": "Python 3 (ipykernel)",
   "language": "python",
   "name": "python3"
  },
  "language_info": {
   "codemirror_mode": {
    "name": "ipython",
    "version": 3
   },
   "file_extension": ".py",
   "mimetype": "text/x-python",
   "name": "python",
   "nbconvert_exporter": "python",
   "pygments_lexer": "ipython3",
   "version": "3.10.7"
  }
 },
 "nbformat": 4,
 "nbformat_minor": 5
}
