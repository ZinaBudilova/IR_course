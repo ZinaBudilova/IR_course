{
 "cells": [
  {
   "cell_type": "code",
   "execution_count": 17,
   "id": "1a7bcfc2",
   "metadata": {},
   "outputs": [],
   "source": [
    "import os\n",
    "from operator import itemgetter\n",
    "from sklearn.metrics.pairwise import cosine_similarity"
   ]
  },
  {
   "cell_type": "code",
   "execution_count": 18,
   "id": "a8a77641",
   "metadata": {},
   "outputs": [],
   "source": [
    "corpus_name = 'friends-data'\n",
    "corpus_dir = os.path.join(os.getcwd(), corpus_name) "
   ]
  },
  {
   "cell_type": "code",
   "execution_count": 19,
   "id": "3a8a05a6",
   "metadata": {},
   "outputs": [],
   "source": [
    "def make_title_list(corpus_dir):\n",
    "    titles = []\n",
    "    for root, dirs, files in os.walk(corpus_dir):\n",
    "        for name in files:\n",
    "            titles.append(name)\n",
    "    return titles"
   ]
  },
  {
   "cell_type": "code",
   "execution_count": 23,
   "id": "848a9af6",
   "metadata": {},
   "outputs": [],
   "source": [
    "def sim_vector(matrix, qu_vec):\n",
    "    vector = []\n",
    "    for doc in matrix:\n",
    "        rate = cosine_similarity(qu_vec, doc)[0][0]\n",
    "        vector.append(rate)\n",
    "    return vector"
   ]
  },
  {
   "cell_type": "code",
   "execution_count": 26,
   "id": "bb69d2c6",
   "metadata": {},
   "outputs": [],
   "source": [
    "def get_result(vector, titles):\n",
    "    result = []\n",
    "    for title, rate in zip(titles, vector):\n",
    "        result.append((title, rate))\n",
    "    result = sorted(result, key=itemgetter(1), reverse=True)\n",
    "    return result"
   ]
  },
  {
   "cell_type": "code",
   "execution_count": 25,
   "id": "d9fda528",
   "metadata": {},
   "outputs": [],
   "source": [
    "def calc_similarity(matrix, qu_vec, corpus_dir):\n",
    "    titles = make_title_list(corpus_dir)\n",
    "    vec = sim_vector(matrix, qu_vec)\n",
    "    res = get_result(vec, titles)\n",
    "    return res"
   ]
  },
  {
   "cell_type": "code",
   "execution_count": 2,
   "id": "fcaf8376",
   "metadata": {},
   "outputs": [],
   "source": [
    "def print_res(res):\n",
    "    for item in res:\n",
    "        print(item[0])"
   ]
  }
 ],
 "metadata": {
  "kernelspec": {
   "display_name": "Python 3 (ipykernel)",
   "language": "python",
   "name": "python3"
  },
  "language_info": {
   "codemirror_mode": {
    "name": "ipython",
    "version": 3
   },
   "file_extension": ".py",
   "mimetype": "text/x-python",
   "name": "python",
   "nbconvert_exporter": "python",
   "pygments_lexer": "ipython3",
   "version": "3.10.7"
  }
 },
 "nbformat": 4,
 "nbformat_minor": 5
}
