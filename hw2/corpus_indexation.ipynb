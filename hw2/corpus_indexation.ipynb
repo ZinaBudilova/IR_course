{
 "cells": [
  {
   "cell_type": "code",
   "execution_count": 53,
   "id": "3e8bbf8c",
   "metadata": {},
   "outputs": [],
   "source": [
    "from tqdm import tqdm\n",
    "import os\n",
    "import string\n",
    "import numpy as np\n",
    "from nltk.corpus import stopwords\n",
    "from nltk.tokenize import word_tokenize\n",
    "\n",
    "from sklearn.feature_extraction.text import TfidfVectorizer\n",
    "vectorizer = TfidfVectorizer()\n",
    "\n",
    "from pymorphy2 import MorphAnalyzer\n",
    "morph = MorphAnalyzer()"
   ]
  },
  {
   "cell_type": "code",
   "execution_count": 54,
   "id": "487d72a0",
   "metadata": {},
   "outputs": [],
   "source": [
    "def preprocess(text):\n",
    "    stop_words = set(stopwords.words('russian'))\n",
    "    punctuation = set(string.punctuation).union({'...', '–', '—', \"''\", '»', '«', '``'})\n",
    "\n",
    "    np.char.lower(text)\n",
    "    tokens = word_tokenize(text)\n",
    "    \n",
    "    lemmas = []\n",
    "    for t in tokens:\n",
    "        if t not in stop_words and t not in punctuation:\n",
    "            if t[-1] == '…':\n",
    "                t = t[:-1]\n",
    "            analysis = morph.parse(t)\n",
    "            lemma = analysis[0].normal_form\n",
    "            lemmas.append(lemma)\n",
    "    return \" \".join(lemmas)"
   ]
  },
  {
   "cell_type": "code",
   "execution_count": 55,
   "id": "3a646a70",
   "metadata": {},
   "outputs": [],
   "source": [
    "def make_corpus(corpus_dir):\n",
    "    corpus = []\n",
    "\n",
    "    for root, dirs, files in os.walk(corpus_dir):\n",
    "        for name in tqdm(files):\n",
    "            fpath = os.path.join(root, name)\n",
    "            with open(fpath, 'r', encoding='utf-8-sig') as f:  \n",
    "                text = f.read()\n",
    "            corpus.append(preprocess(text))\n",
    "    return corpus"
   ]
  },
  {
   "cell_type": "code",
   "execution_count": 1,
   "id": "e5f895fa",
   "metadata": {},
   "outputs": [],
   "source": [
    "def make_index(corpus_dir):\n",
    "    corpus = make_corpus(corpus_dir)\n",
    "    matrix = vectorizer.fit_transform(corpus)\n",
    "    return matrix, vectorizer"
   ]
  }
 ],
 "metadata": {
  "kernelspec": {
   "display_name": "Python 3 (ipykernel)",
   "language": "python",
   "name": "python3"
  },
  "language_info": {
   "codemirror_mode": {
    "name": "ipython",
    "version": 3
   },
   "file_extension": ".py",
   "mimetype": "text/x-python",
   "name": "python",
   "nbconvert_exporter": "python",
   "pygments_lexer": "ipython3",
   "version": "3.10.7"
  }
 },
 "nbformat": 4,
 "nbformat_minor": 5
}
